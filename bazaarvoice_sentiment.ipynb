{
 "cells": [
  {
   "cell_type": "code",
   "execution_count": null,
   "metadata": {},
   "outputs": [],
   "source": [
    "from google.cloud import bigquery\n",
    "import pandas as pd\n",
    "import numpy as np\n",
    "import nltk\n",
    "from nltk.sentiment.vader import SentimentIntensityAnalyzer\n",
    "from pandas.plotting import bootstrap_plot\n",
    "import seaborn as sns\n",
    "from scipy import stats\n",
    "from wordcloud import WordCloud, STOPWORDS\n",
    "import matplotlib.pyplot as plt"
   ]
  },
  {
   "cell_type": "code",
   "execution_count": null,
   "metadata": {},
   "outputs": [],
   "source": [
    "#Initialize the BQ Client\n",
    "client = bigquery.Client()\n",
    "\n",
    "#SQL Query for the data you are pulling out of BigQuery\n",
    "sql = (\"SELECT Brand, Department, Engineered_Review_Text AS Text FROM `your_gcp_project.your_dataset.your_bazaarvoice_table`\")\n",
    "\n",
    "#Execute the query and load it into a DataFrame\n",
    "df = client.query(sql).to_dataframe()"
   ]
  },
  {
   "cell_type": "code",
   "execution_count": null,
   "metadata": {},
   "outputs": [],
   "source": [
    "#Examine records\n",
    "df.head()"
   ]
  },
  {
   "cell_type": "code",
   "execution_count": null,
   "metadata": {},
   "outputs": [],
   "source": [
    "#Initialize the vader\n",
    "vader = SentimentIntensityAnalyzer()\n",
    "\n",
    "#callable function to process each Text\n",
    "def sentiment_analyzer_scores(text):\n",
    "    score = vader.polarity_scores(text) \n",
    "    print(\"{:-<40} {}\".format(text, str(score)))"
   ]
  },
  {
   "cell_type": "code",
   "execution_count": null,
   "metadata": {},
   "outputs": [],
   "source": [
    "#counter\n",
    "i=0\n",
    "#empty list\n",
    "vadervalues = [ ]\n",
    "#call the function for each row in the dataframe and return only the compound score\n",
    "while (i<len(df)):\n",
    "    k = vader.polarity_scores(df.iloc[i]['Text'])\n",
    "    vadervalues.append(k['compound'])\n",
    "    i = i+1\n",
    "\n",
    "#add the compound vader score as a column on the original frame\n",
    "vadervalues = np.array(vadervalues)\n",
    "df['vader'] = vadervalues"
   ]
  },
  {
   "cell_type": "code",
   "execution_count": null,
   "metadata": {},
   "outputs": [],
   "source": [
    "#examine records\n",
    "df.head()"
   ]
  },
  {
   "cell_type": "code",
   "execution_count": null,
   "metadata": {},
   "outputs": [],
   "source": [
    "#check average vader score by merchandise department category\n",
    "df_department_mean = pd.DataFrame(df.groupby(['Department'])['vader'].mean())"
   ]
  },
  {
   "cell_type": "code",
   "execution_count": null,
   "metadata": {},
   "outputs": [],
   "source": [
    "#show ordered results from most positive to least positive\n",
    "df_top_departments = df_department_mean.sort_values(['vader'], ascending=False)\n",
    "df_top_departments.head(100)"
   ]
  },
  {
   "cell_type": "code",
   "execution_count": null,
   "metadata": {},
   "outputs": [],
   "source": [
    "#plot the sentiment by merchandise department\n",
    "df.boxplot(by='Department')"
   ]
  },
  {
   "cell_type": "code",
   "execution_count": null,
   "metadata": {},
   "outputs": [],
   "source": [
    "#ordered list of merchandise departments by positive vader score descending\n",
    "my_order = df.groupby(by=['Department'])['vader'].median().sort_values(ascending=False).index\n",
    "#seaborn produces a cleaner plot\n",
    "sns.set(rc={'figure.figsize':(25,10)})\n",
    "brandbox = sns.boxplot(x=\"Department\", y=\"vader\", fliersize=1 , data=df, palette=\"BuGn_r\", showfliers=False, order=my_order)\n",
    "brandbox.set_xticklabels(brandbox.get_xticklabels(), rotation=45, ha=\"right\")"
   ]
  },
  {
   "cell_type": "code",
   "execution_count": null,
   "metadata": {},
   "outputs": [],
   "source": [
    "#get average vader score by Brand Name\n",
    "df_brand_mean = pd.DataFrame(df.groupby(['Brand'])['vader'].mean())"
   ]
  },
  {
   "cell_type": "code",
   "execution_count": null,
   "metadata": {},
   "outputs": [],
   "source": [
    "#ordered list of TOP 10 brand names with BEST sentiment score\n",
    "df_top_brands = df_brand_mean.sort_values(['vader'], ascending=False)\n",
    "df_top_brands.head(10)"
   ]
  },
  {
   "cell_type": "code",
   "execution_count": null,
   "metadata": {},
   "outputs": [],
   "source": [
    "#ordered list of BOTTOM 10 brand names with WORST sentiment score\n",
    "df_bot_brands = df_brand_mean.sort_values(['vader'], ascending=True)\n",
    "df_bot_brands.head(10)"
   ]
  },
  {
   "cell_type": "code",
   "execution_count": null,
   "metadata": {},
   "outputs": [],
   "source": [
    "#Histogram showing the overall company sentiment scores\n",
    "df_brand_mean.plot.hist(stacked=True, bins=50)"
   ]
  },
  {
   "cell_type": "code",
   "execution_count": null,
   "metadata": {},
   "outputs": [],
   "source": [
    "#Histogram showing overall company with overlayed kde density line\n",
    "sns.distplot(df_brand_mean)"
   ]
  },
  {
   "cell_type": "code",
   "execution_count": null,
   "metadata": {},
   "outputs": [],
   "source": [
    "#Density PLot showing overall company sentiment scores\n",
    "df_brand_mean.plot.kde()"
   ]
  },
  {
   "cell_type": "code",
   "execution_count": null,
   "metadata": {},
   "outputs": [],
   "source": [
    "#bootstrap vis of overall scores\n",
    "bootstrap_plot(df_brand_mean['vader'], size=100, samples=50)"
   ]
  },
  {
   "cell_type": "code",
   "execution_count": null,
   "metadata": {},
   "outputs": [],
   "source": [
    "#Example of word cloud to see what customers are saying overall\n",
    "wordcloud = WordCloud(\n",
    "    width = 1000,\n",
    "    height = 500,\n",
    "    background_color = 'black',\n",
    "    stopwords = STOPWORDS).generate(str(df['Text']))\n",
    "\n",
    "fig = plt.figure(\n",
    "    figsize = (40, 30),\n",
    "    facecolor = 'k',\n",
    "    edgecolor = 'k')\n",
    "plt.imshow(wordcloud, interpolation = 'bilinear')\n",
    "plt.axis('off')\n",
    "plt.tight_layout(pad=0)\n",
    "plt.show()"
   ]
  },
  {
   "cell_type": "code",
   "execution_count": null,
   "metadata": {},
   "outputs": [],
   "source": [
    "#Example of word cloud showing only one Merchandise Department we want to examine\n",
    "DepartmentX = df.loc[df['Department'] == \"DepartmentX\"]\n",
    "\n",
    "DepartmentX_wordcloud = WordCloud(\n",
    "    width = 3000,\n",
    "    height = 2000,\n",
    "    background_color = 'black',\n",
    "    stopwords = STOPWORDS).generate(str(DepartmentX['Text']))\n",
    "\n",
    "fig = plt.figure(\n",
    "    figsize = (40, 30),\n",
    "    facecolor = 'k',\n",
    "    edgecolor = 'k')\n",
    "plt.imshow(DepartmentX_wordcloud, interpolation = 'bilinear')\n",
    "plt.axis('off')\n",
    "plt.tight_layout(pad=0)\n",
    "plt.show()"
   ]
  },
  {
   "cell_type": "code",
   "execution_count": null,
   "metadata": {},
   "outputs": [],
   "source": [
    "#Example of word cloud showing only one Merchandise Department we want to examine\n",
    "DepartmentY = df.loc[df['Department'] == \"DepartmentY\"]\n",
    "\n",
    "DepartmentY_wordcloud = WordCloud(\n",
    "    width = 3000,\n",
    "    height = 2000,\n",
    "    background_color = 'black',\n",
    "    stopwords = STOPWORDS).generate(str(DepartmentY['Text']))\n",
    "\n",
    "fig = plt.figure(\n",
    "    figsize = (40, 30),\n",
    "    facecolor = 'k',\n",
    "    edgecolor = 'k')\n",
    "plt.imshow(DepartmentY_wordcloud, interpolation = 'bilinear')\n",
    "plt.axis('off')\n",
    "plt.tight_layout(pad=0)\n",
    "plt.show()"
   ]
  },
  {
   "cell_type": "code",
   "execution_count": null,
   "metadata": {},
   "outputs": [],
   "source": [
    "#Examine the highest rated brand by name\n",
    "Highest_Rated_Brand_df = df.loc[df['Brand'] == \"Highest Rated Brand Name\"]"
   ]
  },
  {
   "cell_type": "code",
   "execution_count": null,
   "metadata": {},
   "outputs": [],
   "source": [
    "#hist\n",
    "Highest_Rated_Brand_df.plot.hist(stacked=True, bins=50)"
   ]
  },
  {
   "cell_type": "code",
   "execution_count": null,
   "metadata": {},
   "outputs": [],
   "source": [
    "#density\n",
    "sns.distplot(Highest_Rated_Brand_df['vader'], kde=True);"
   ]
  },
  {
   "cell_type": "code",
   "execution_count": null,
   "metadata": {},
   "outputs": [],
   "source": [
    "#Examine an interesting brand name by name\n",
    "Another_Brand_df = df.loc[df['Brand'] == \"Another Brand Name\"]"
   ]
  },
  {
   "cell_type": "code",
   "execution_count": null,
   "metadata": {},
   "outputs": [],
   "source": [
    "sns.distplot(Another_Brand_df['vader'], kde=True);"
   ]
  },
  {
   "cell_type": "code",
   "execution_count": null,
   "metadata": {},
   "outputs": [],
   "source": [
    "#Examine an interesting brand name word cloud\n",
    "ANOTHER_BRAND_wordcloud = WordCloud(\n",
    "    width = 3000,\n",
    "    height = 2000,\n",
    "    background_color = 'black',\n",
    "    stopwords = STOPWORDS).generate(str(Another_Brand_df['Text']))\n",
    "\n",
    "fig = plt.figure(\n",
    "    figsize = (40, 30),\n",
    "    facecolor = 'k',\n",
    "    edgecolor = 'k')\n",
    "plt.imshow(ANOTHER_BRAND_wordcloud, interpolation = 'bilinear')\n",
    "plt.axis('off')\n",
    "plt.tight_layout(pad=0)\n",
    "plt.show()"
   ]
  },
  {
   "cell_type": "code",
   "execution_count": null,
   "metadata": {},
   "outputs": [],
   "source": [
    "#Drill into a specific merchandise department name only and split by another attribute\n",
    "#Derive Attribute X by similarly named Departments\n",
    "ATTRIBUTEX_DepartmentName = df.loc[df['Department'] == \"ATTRIBUTEX Department Name\"]\n",
    "ATTRIBUTEX_DepartmentName['ATTRIBUTE']= 'ATTRIBUTEX'\n",
    "ATTRIBUTEX_DepartmentName['Dept']= 'Department Name'\n",
    "df_XA_mean = pd.DataFrame(ATTRIBUTEX_DepartmentName.groupby(['ATTRIBUTE','Brand'])['vader'].mean())\n",
    "df_top_XA_brands = df_XA_mean.sort_values(['vader'], ascending=False)\n",
    "df_top_XA_brands.head(100)"
   ]
  },
  {
   "cell_type": "code",
   "execution_count": null,
   "metadata": {},
   "outputs": [],
   "source": [
    "#COLLECT THE OTHER ATTRIBUTE\n",
    "#Derive Attribute Y by similarly named Departments\n",
    "ATTRIBUTEY_DepartmentName = df.loc[df['Department'] == \"ATTRIBUTEY Department Name\"]\n",
    "ATTRIBUTEY_DepartmentName['ATTRIBUTE']= 'ATTRIBUTEY'\n",
    "ATTRIBUTEY_DepartmentName['Dept']= 'Department Name'\n",
    "df_YA_mean = pd.DataFrame(ATTRIBUTEX_DepartmentName.groupby(['ATTRIBUTE','Brand'])['vader'].mean())\n",
    "df_top_YA_brands = df_YA_mean.sort_values(['vader'], ascending=False)\n",
    "df_top_YA_brands.head(100)"
   ]
  },
  {
   "cell_type": "code",
   "execution_count": null,
   "metadata": {},
   "outputs": [],
   "source": [
    "#UNION ATTRIBUTE X AND Y df together\n",
    "df_ATTRIBUTE = pd.concat([ATTRIBUTEY_DepartmentName, ATTRIBUTEX_DepartmentName])\n",
    "df_ATTRIBUTE.head()"
   ]
  },
  {
   "cell_type": "code",
   "execution_count": null,
   "metadata": {},
   "outputs": [],
   "source": [
    "#Plot Sentiment Scores By Brand Comparing Attribute X and Y for each brand\n",
    "sns.boxplot(x=\"Brand\", y=\"vader\",\n",
    "            hue=\"ATTRIBUTE\", palette=[\"m\", \"g\"],\n",
    "            data=df_ATTRIBUTE)\n",
    "sns.despine(offset=10, trim=True)"
   ]
  },
  {
   "cell_type": "code",
   "execution_count": null,
   "metadata": {},
   "outputs": [],
   "source": [
    "#Cleaner SNS version\n",
    "df_ATTRIBUTE_order = df_ATTRIBUTE.groupby(by=['Brand'])['vader'].median().sort_values(ascending=False).index\n",
    "\n",
    "sns.set(rc={'figure.figsize':(25,10)})\n",
    "brandbox = sns.boxplot(x=\"Brand\", y=\"vader\", \n",
    "                       data=df_ATTRIBUTE, \n",
    "                       showfliers=False, \n",
    "                       order=df_ATTRIBUTE_order, \n",
    "                       hue=\"ATTRIBUTE\", \n",
    "                       palette=[\"m\", \"g\"])\n",
    "brandbox.set_xticklabels(brandbox.get_xticklabels(), rotation=45, ha=\"right\")"
   ]
  }
 ],
 "metadata": {
  "kernelspec": {
   "display_name": "Python 2",
   "language": "python",
   "name": "python2"
  },
  "language_info": {
   "codemirror_mode": {
    "name": "ipython",
    "version": 2
   },
   "file_extension": ".py",
   "mimetype": "text/x-python",
   "name": "python",
   "nbconvert_exporter": "python",
   "pygments_lexer": "ipython2",
   "version": "2.7.15"
  }
 },
 "nbformat": 4,
 "nbformat_minor": 2
}
